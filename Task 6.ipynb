{
 "cells": [
  {
   "cell_type": "markdown",
   "id": "47eb1eb3",
   "metadata": {},
   "source": [
    "Name = Sujal vitthal kadam"
   ]
  },
  {
   "cell_type": "markdown",
   "id": "72c193a6",
   "metadata": {},
   "source": [
    "Branch = CO"
   ]
  },
  {
   "cell_type": "markdown",
   "id": "901f389d",
   "metadata": {},
   "source": [
    "Task = 6"
   ]
  },
  {
   "cell_type": "code",
   "execution_count": 23,
   "id": "bcd6ec74",
   "metadata": {},
   "outputs": [
    {
     "name": "stdout",
     "output_type": "stream",
     "text": [
      "\n",
      "Books to scrape (first 2 pages):\n",
      "{'title': 'In Her Wake', 'price': 'Â£12.84'}\n",
      "{'title': 'How Music Works', 'price': 'Â£37.32'}\n",
      "{'title': 'Foolproof Preserving: A Guide to Small Batch Jams, Jellies, Pickles, Condiments, and More: A Foolproof Guide to Making Small Batch Jams, Jellies, Pickles, Condiments, and More', 'price': 'Â£30.52'}\n",
      "{'title': 'Chase Me (Paris Nights #2)', 'price': 'Â£25.27'}\n",
      "{'title': 'Black Dust', 'price': 'Â£34.53'}\n",
      "{'title': 'Birdsong: A Story in Pictures', 'price': 'Â£54.64'}\n",
      "{'title': \"America's Cradle of Quarterbacks: Western Pennsylvania's Football Factory from Johnny Unitas to Joe Montana\", 'price': 'Â£22.50'}\n",
      "{'title': 'Aladdin and His Wonderful Lamp', 'price': 'Â£53.13'}\n",
      "{'title': 'Worlds Elsewhere: Journeys Around Shakespeareâ\\x80\\x99s Globe', 'price': 'Â£40.30'}\n",
      "{'title': 'Wall and Piece', 'price': 'Â£44.18'}\n",
      "{'title': 'The Four Agreements: A Practical Guide to Personal Freedom', 'price': 'Â£17.66'}\n",
      "{'title': 'The Five Love Languages: How to Express Heartfelt Commitment to Your Mate', 'price': 'Â£31.05'}\n",
      "{'title': 'The Elephant Tree', 'price': 'Â£23.82'}\n",
      "{'title': 'The Bear and the Piano', 'price': 'Â£36.89'}\n",
      "{'title': \"Sophie's World\", 'price': 'Â£15.94'}\n",
      "{'title': 'Penny Maybe', 'price': 'Â£33.29'}\n",
      "{'title': 'Maude (1883-1993):She Grew Up with the country', 'price': 'Â£18.02'}\n",
      "{'title': 'In a Dark, Dark Wood', 'price': 'Â£19.63'}\n",
      "{'title': 'Behind Closed Doors', 'price': 'Â£52.22'}\n",
      "{'title': \"You can't bury them all: Poems\", 'price': 'Â£33.63'}\n"
     ]
    }
   ],
   "source": [
    "import requests\n",
    "from bs4 import BeautifulSoup\n",
    "import pandas as pd\n",
    "\n",
    "#--------------------------------\n",
    "# Book To Scrape\n",
    "#--------------------------------\n",
    "\n",
    "books_data = []\n",
    "base_url = \"http://books.toscrape.com/catalogue/page-{}.html\"\n",
    "\n",
    "for page in range(1, 3):\n",
    "    url = base_url.format(page)\n",
    "    response = requests.get(url)\n",
    "    soup = BeautifulSoup(response.text,\"html.parser\")\n",
    "\n",
    "for book in soup.select(\".product_pod\"):\n",
    "    title = book.h3.a[\"title\"]\n",
    "    price = book.select_one(\".price_color\").text.strip()\n",
    "    books_data.append({\"title\": title, \"price\": price})\n",
    "\n",
    "print(\"\\nBooks to scrape (first 2 pages):\")\n",
    "for b in books_data:\n",
    "    print(b)"
   ]
  },
  {
   "cell_type": "code",
   "execution_count": 24,
   "id": "a30c0990",
   "metadata": {},
   "outputs": [
    {
     "name": "stdout",
     "output_type": "stream",
     "text": [
      "\n",
      "Weather Data:\n",
      "       city              description temperature\n",
      "0    London                    Sunny       +13°C\n",
      "1  New York                    Clear       +22°C\n",
      "2     Paris                    Clear       +18°C\n",
      "3     Tokyo  Light rain shower, mist       +26°C\n",
      "4    Mumbai                     Mist       +27°C\n"
     ]
    }
   ],
   "source": [
    "#--------------------------------\n",
    "# Weather Data\n",
    "#--------------------------------\n",
    "\n",
    "cities = [\"London\", \"New York\", \"Paris\", \"Tokyo\", \"Mumbai\"]\n",
    "weather_data = []\n",
    "\n",
    "for city in cities:\n",
    "    url = f\"https://wttr.in/{city}?format=%C+%t\"\n",
    "    response = requests.get(url)\n",
    "    if response.status_code == 200:\n",
    "        description_temp = response.text.strip()\n",
    "        try:\n",
    "            description, temp = description_temp.rsplit(\" \", 1)\n",
    "        except ValueError:\n",
    "            description, temp = description_temp, \"\"\n",
    "        weather_data.append({\"city\": city, \"description\": description, \"temperature\": temp})\n",
    "\n",
    "weather_df = pd.DataFrame(weather_data)\n",
    "print(\"\\nWeather Data:\")\n",
    "print(weather_df)"
   ]
  },
  {
   "cell_type": "code",
   "execution_count": 35,
   "id": "177a29db",
   "metadata": {},
   "outputs": [
    {
     "name": "stdout",
     "output_type": "stream",
     "text": [
      "Data saved to fake_jobs.csv\n"
     ]
    }
   ],
   "source": [
    "jobs_data = []\n",
    "jobs_base_url = \"https://realpython.github.io/fake-jobs/page-{}.html\"\n",
    "\n",
    "for page in range(1, 4):\n",
    "    url = jobs_base_url.format(page)\n",
    "    response = requests.get(url)\n",
    "    soup = BeautifulSoup(response.text, \"html.parser\")\n",
    "    \n",
    "    for job_card in soup.select(\".card-content\"):\n",
    "        title = job_card.find(\"h2\", class_=\"title\").text.strip()\n",
    "        company = job_card.find(\"h3\", class_=\"company\").text.strip()\n",
    "        location = job_card.find(\"p\", class_=\"location\").text.strip()\n",
    "        jobs_data.append({\"title\": title, \"company\": company, \"location\": location})\n",
    "\n",
    "jobs_df = pd.DataFrame(jobs_data)\n",
    "jobs_df.to_csv(\"fake_jobs.csv\", index=False)\n",
    "\n",
    "print(\"Data saved to fake_jobs.csv\")\n"
   ]
  },
  {
   "cell_type": "code",
   "execution_count": null,
   "id": "2ee587da",
   "metadata": {},
   "outputs": [],
   "source": []
  }
 ],
 "metadata": {
  "kernelspec": {
   "display_name": "Python 3",
   "language": "python",
   "name": "python3"
  },
  "language_info": {
   "codemirror_mode": {
    "name": "ipython",
    "version": 3
   },
   "file_extension": ".py",
   "mimetype": "text/x-python",
   "name": "python",
   "nbconvert_exporter": "python",
   "pygments_lexer": "ipython3",
   "version": "3.13.4"
  }
 },
 "nbformat": 4,
 "nbformat_minor": 5
}
